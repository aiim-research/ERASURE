{
 "cells": [
  {
   "cell_type": "code",
   "execution_count": 26,
   "metadata": {},
   "outputs": [
    {
     "name": "stdout",
     "output_type": "stream",
     "text": [
      "The autoreload extension is already loaded. To reload it, use:\n",
      "  %reload_ext autoreload\n"
     ]
    }
   ],
   "source": [
    "import copy\n",
    "import os\n",
    "import argparse\n",
    "import torch\n",
    "import numpy as np\n",
    "import random\n",
    "from erasure.utils.config.global_ctx import set_seed \n",
    "\n",
    "set_seed(1)\n",
    "\n",
    "%load_ext autoreload\n",
    "%autoreload 2\n",
    "from erasure.utils.config.local_ctx import Local\n",
    "from erasure.utils.config.global_ctx import Global \n",
    "from erasure.core.factory_base import ConfigurableFactory\n",
    "from erasure.data.datasets.DatasetManager import DatasetManager"
   ]
  },
  {
   "cell_type": "code",
   "execution_count": 27,
   "metadata": {},
   "outputs": [
    {
     "name": "stdout",
     "output_type": "stream",
     "text": [
      "2024-12-04 16:56:33,-1838994545 | INFO | 2566116 - Creating Global Context for: configs/example_hf.jsonc\n",
      "2024-12-04 16:56:33,-1838994543 | INFO | 2566116 - Current PyTorch seed: 1\n",
      "CONFIG DATA  {'class': 'erasure.data.datasets.DatasetManager.DatasetManager', 'parameters': {'DataSource': {'class': 'erasure.data.data_sources.HFDataSource.HFDataSource', 'parameters': {'path': 'locuslab/TOFU/forget01'}}, 'splits': [{'class': 'erasure.data.datasets.DataSplitter.DataSplitterPercentage', 'parameters': {'splits_names': ['all_reduced', '-'], 'percentage': 0.0125}}, {'class': 'erasure.data.datasets.DataSplitter.DataSplitterPercentage', 'parameters': {'splits_names': ['train', 'test'], 'percentage': 0.8, 'ref_data': 'all_reduced'}}, {'class': 'erasure.data.datasets.DataSplitter.DataSplitterClass', 'parameters': {'splits_names': ['forget set', 'other_classes'], 'label': 1, 'ref_data': 'train'}}, {'class': 'erasure.data.datasets.DataSplitter.DataSplitterNSamples', 'parameters': {'splits_names': ['example', '-'], 'n_samples': 100, 'ref_data': 'forget set'}}], 'batch_size': 128, 'split_seed': 16}}\n",
      "2024-12-04 16:56:33,-1838994541 | INFO | 2566116 - {'class': 'erasure.data.data_sources.HFDataSource.HFDataSource', 'parameters': {'path': 'locuslab/TOFU/forget01'}}\n",
      "2024-12-04 16:56:33,-1838994540 | INFO | 2566116 - Instantiating: erasure.data.data_sources.HFDataSource.HFDataSource\n",
      "Splits available: dict_keys(['train'])\n",
      "2024-12-04 16:56:34,-1838993198 | INFO | 2566116 - <torch.utils.data.dataset.ConcatDataset object at 0x7f24f5a2cb80>\n",
      "2024-12-04 16:56:34,-1838993197 | INFO | 2566116 - Instantiating: erasure.data.datasets.DataSplitter.DataSplitterPercentage\n",
      "2024-12-04 16:56:34,-1838993171 | INFO | 2566116 - Instantiating: erasure.data.datasets.DataSplitter.DataSplitterPercentage\n",
      "2024-12-04 16:56:34,-1838993170 | INFO | 2566116 - Instantiating: erasure.data.datasets.DataSplitter.DataSplitterClass\n",
      "2024-12-04 16:56:34,-1838993170 | INFO | 2566116 - Instantiating: erasure.data.datasets.DataSplitter.DataSplitterNSamples\n",
      "2024-12-04 16:56:34,-1838993169 | INFO | 2566116 - ['all', 'all_reduced', '-', 'train', 'test', 'forget set', 'other_classes', 'example']\n",
      "2024-12-04 16:56:34,-1838993169 | INFO | 2566116 - Created Configurable: erasure.data.datasets.DatasetManager.DatasetManager\n"
     ]
    }
   ],
   "source": [
    "config_file = os.path.join(\"configs\", \"example_hf.jsonc\")\n",
    "\n",
    "global_ctx = Global(config_file)\n",
    "global_ctx.factory = ConfigurableFactory(global_ctx)\n",
    "\n",
    "global_ctx.logger.info(f\"Current PyTorch seed: {torch.initial_seed()}\")\n",
    "\n",
    "#Create Dataset\n",
    "print(\"CONFIG DATA \", global_ctx.config.data)\n",
    "data_manager = global_ctx.factory.get_object( Local( global_ctx.config.data ))"
   ]
  },
  {
   "cell_type": "code",
   "execution_count": 28,
   "metadata": {},
   "outputs": [
    {
     "data": {
      "text/plain": [
       "1"
      ]
     },
     "execution_count": 28,
     "metadata": {},
     "output_type": "execute_result"
    }
   ],
   "source": [
    "data_manager.n_classes"
   ]
  }
 ],
 "metadata": {
  "kernelspec": {
   "display_name": "representer",
   "language": "python",
   "name": "python3"
  },
  "language_info": {
   "codemirror_mode": {
    "name": "ipython",
    "version": 3
   },
   "file_extension": ".py",
   "mimetype": "text/x-python",
   "name": "python",
   "nbconvert_exporter": "python",
   "pygments_lexer": "ipython3",
   "version": "3.9.19"
  }
 },
 "nbformat": 4,
 "nbformat_minor": 2
}
