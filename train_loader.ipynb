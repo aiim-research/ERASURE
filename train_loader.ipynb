{
 "cells": [
  {
   "cell_type": "code",
   "execution_count": 1,
   "metadata": {},
   "outputs": [],
   "source": [
    "import copy\n",
    "import os\n",
    "import argparse\n",
    "import torch\n",
    "import numpy as np\n",
    "import random\n",
    "\n",
    "%load_ext autoreload\n",
    "%autoreload 2\n",
    "from erasure.utils.config.local_ctx import Local\n",
    "from erasure.utils.config.global_ctx import Global \n",
    "from erasure.core.factory_base import ConfigurableFactory\n",
    "from erasure.data.datasets.DatasetManager import DatasetManager"
   ]
  },
  {
   "cell_type": "code",
   "execution_count": 4,
   "metadata": {},
   "outputs": [
    {
     "name": "stdout",
     "output_type": "stream",
     "text": [
      "2025-01-04 23:34:12,863265051 | INFO | 2527015 - Creating Global Context for: configs/example_celeba.jsonc\n",
      "2025-01-04 23:34:12,863265083 | INFO | 2527015 - \u001b[91mWARNING - SEEDS ARE RANDOMLY GENERATED AS 1429575165 - Add globals['seed'] to the main Cfg to fix them.\u001b[0m\n",
      "2025-01-04 23:34:12,863265085 | INFO | 2527015 - \u001b[91mCaching System: False.\u001b[0m\n",
      "2025-01-04 23:34:12,863265114 | INFO | 2527015 - Current PyTorch seed: 1429575165\n",
      "CONFIG DATA  {'class': 'erasure.data.datasets.DatasetManager.DatasetManager', 'parameters': {'DataSource': {'class': 'erasure.data.data_sources.TVDataSource.TVDataSourceCelebA', 'parameters': {'path': 'torchvision.datasets.CelebA', 'transform': ['ToTensor'], 'label_column': 'attr', 'target_type': ['attr', 'identity'], 'preprocess': [{'class': 'erasure.data.preprocessing.reshape_y_z.reshape_y_z', 'parameters': {'keep_as_y': [0, 0], 'move_to_z': [1]}}]}}, 'partitions': [{'class': 'erasure.data.datasets.DataSplitter.DataSplitterPercentage', 'parameters': {'parts_names': ['all_reduced', '-'], 'percentage': 0.1}}, {'class': 'erasure.data.datasets.DataSplitter.DataSplitterPercentage', 'parameters': {'parts_names': ['train', 'test'], 'percentage': 0.8, 'ref_data': 'all_reduced'}}, {'class': 'erasure.data.datasets.DataSplitter.DataSplitterByZ', 'parameters': {'parts_names': ['forget', 'retain'], 'z_label': 2880, 'ref_data': 'train'}}, {'class': 'erasure.data.datasets.DataSplitter.DataSplitterNSamples', 'parameters': {'parts_names': ['example', '-'], 'n_samples': 100, 'ref_data': 'forget'}}], 'batch_size': 128, 'split_seed': 16}}\n",
      "2025-01-04 23:34:12,863265117 | INFO | 2527015 - Created Configurable: erasure.data.preprocessing.reshape_y_z.reshape_y_z\n",
      "2025-01-04 23:34:12,863265117 | INFO | 2527015 - Created Configurable: erasure.data.data_sources.TVDataSource.TVDataSourceCelebA\n",
      "2025-01-04 23:34:12,863265118 | INFO | 2527015 - {'class': 'erasure.data.data_sources.TVDataSource.TVDataSourceCelebA', 'parameters': {'path': 'torchvision.datasets.CelebA', 'transform': ['ToTensor'], 'label_column': 'attr', 'target_type': ['attr', 'identity'], 'preprocess': [{'class': 'erasure.data.preprocessing.reshape_y_z.reshape_y_z', 'parameters': {'keep_as_y': [0, 0], 'move_to_z': [1]}}], 'root_path': 'resources/data'}}\n",
      "Files already downloaded and verified\n",
      "Files already downloaded and verified\n",
      "2025-01-04 23:34:39,863292035 | INFO | 2527015 - <torch.utils.data.dataset.ConcatDataset object at 0x7fcc0cf3cbb0>\n",
      "2025-01-04 23:34:39,863292037 | INFO | 2527015 - Instantiating: erasure.data.datasets.DataSplitter.DataSplitterPercentage\n",
      "2025-01-04 23:34:39,863292044 | INFO | 2527015 - ['all', 'all_reduced', '-']\n",
      "2025-01-04 23:34:39,863292045 | INFO | 2527015 - Instantiating: erasure.data.datasets.DataSplitter.DataSplitterPercentage\n",
      "2025-01-04 23:34:39,863292046 | INFO | 2527015 - ['all', 'all_reduced', '-', 'train', 'test']\n",
      "2025-01-04 23:34:39,863292047 | INFO | 2527015 - Instantiating: erasure.data.datasets.DataSplitter.DataSplitterByZ\n"
     ]
    },
    {
     "name": "stderr",
     "output_type": "stream",
     "text": [
      "Filtering Data:  33%|███▎      | 1/3 [03:19<06:39, 199.81s/it]\n"
     ]
    },
    {
     "ename": "KeyboardInterrupt",
     "evalue": "",
     "output_type": "error",
     "traceback": [
      "\u001b[0;31m---------------------------------------------------------------------------\u001b[0m",
      "\u001b[0;31mKeyboardInterrupt\u001b[0m                         Traceback (most recent call last)",
      "Cell \u001b[0;32mIn[4], line 12\u001b[0m\n\u001b[1;32m     10\u001b[0m \u001b[38;5;66;03m#Create Dataset\u001b[39;00m\n\u001b[1;32m     11\u001b[0m \u001b[38;5;28mprint\u001b[39m(\u001b[38;5;124m\"\u001b[39m\u001b[38;5;124mCONFIG DATA \u001b[39m\u001b[38;5;124m\"\u001b[39m, global_ctx\u001b[38;5;241m.\u001b[39mconfig\u001b[38;5;241m.\u001b[39mdata)\n\u001b[0;32m---> 12\u001b[0m data_manager \u001b[38;5;241m=\u001b[39m \u001b[43mglobal_ctx\u001b[49m\u001b[38;5;241;43m.\u001b[39;49m\u001b[43mfactory\u001b[49m\u001b[38;5;241;43m.\u001b[39;49m\u001b[43mget_object\u001b[49m\u001b[43m(\u001b[49m\u001b[43m \u001b[49m\u001b[43mLocal\u001b[49m\u001b[43m(\u001b[49m\u001b[43m \u001b[49m\u001b[43mglobal_ctx\u001b[49m\u001b[38;5;241;43m.\u001b[39;49m\u001b[43mconfig\u001b[49m\u001b[38;5;241;43m.\u001b[39;49m\u001b[43mdata\u001b[49m\u001b[43m \u001b[49m\u001b[43m)\u001b[49m\u001b[43m)\u001b[49m\n",
      "File \u001b[0;32m~/ERASURE/erasure/core/factory_base.py:14\u001b[0m, in \u001b[0;36mConfigurableFactory.get_object\u001b[0;34m(self, local_ctx)\u001b[0m\n\u001b[1;32m     12\u001b[0m \u001b[38;5;28;01mdef\u001b[39;00m \u001b[38;5;21mget_object\u001b[39m(\u001b[38;5;28mself\u001b[39m, local_ctx):\n\u001b[1;32m     13\u001b[0m     \u001b[38;5;28mself\u001b[39m\u001b[38;5;241m.\u001b[39mglobal_ctx\u001b[38;5;241m.\u001b[39mset_seed(\u001b[38;5;241m1\u001b[39m)\n\u001b[0;32m---> 14\u001b[0m     base_obj \u001b[38;5;241m=\u001b[39m \u001b[43mget_class\u001b[49m\u001b[43m(\u001b[49m\u001b[43mlocal_ctx\u001b[49m\u001b[38;5;241;43m.\u001b[39;49m\u001b[43mconfig\u001b[49m\u001b[43m[\u001b[49m\u001b[38;5;124;43m'\u001b[39;49m\u001b[38;5;124;43mclass\u001b[39;49m\u001b[38;5;124;43m'\u001b[39;49m\u001b[43m]\u001b[49m\u001b[43m)\u001b[49m\u001b[43m(\u001b[49m\u001b[38;5;28;43mself\u001b[39;49m\u001b[38;5;241;43m.\u001b[39;49m\u001b[43mglobal_ctx\u001b[49m\u001b[43m,\u001b[49m\u001b[43m \u001b[49m\u001b[43mlocal_ctx\u001b[49m\u001b[43m)\u001b[49m\n\u001b[1;32m     15\u001b[0m     \u001b[38;5;28mself\u001b[39m\u001b[38;5;241m.\u001b[39minfo(\u001b[38;5;124m\"\u001b[39m\u001b[38;5;124mCreated Configurable: \u001b[39m\u001b[38;5;124m\"\u001b[39m\u001b[38;5;241m+\u001b[39m \u001b[38;5;28mstr\u001b[39m(local_ctx\u001b[38;5;241m.\u001b[39mconfig[\u001b[38;5;124m'\u001b[39m\u001b[38;5;124mclass\u001b[39m\u001b[38;5;124m'\u001b[39m]))\n\u001b[1;32m     16\u001b[0m     \u001b[38;5;28;01mreturn\u001b[39;00m base_obj\n",
      "File \u001b[0;32m~/ERASURE/erasure/data/datasets/DatasetManager.py:31\u001b[0m, in \u001b[0;36mDatasetManager.__init__\u001b[0;34m(self, global_ctx, local_ctx)\u001b[0m\n\u001b[1;32m     28\u001b[0m \u001b[38;5;66;03m#count number of classes in the dataset\u001b[39;00m\n\u001b[1;32m     29\u001b[0m \u001b[38;5;28mself\u001b[39m\u001b[38;5;241m.\u001b[39mn_classes \u001b[38;5;241m=\u001b[39m \u001b[38;5;28mself\u001b[39m\u001b[38;5;241m.\u001b[39mpartitions[\u001b[38;5;124m'\u001b[39m\u001b[38;5;124mall\u001b[39m\u001b[38;5;124m'\u001b[39m]\u001b[38;5;241m.\u001b[39mget_n_classes()\n\u001b[0;32m---> 31\u001b[0m \u001b[38;5;28;43mself\u001b[39;49m\u001b[38;5;241;43m.\u001b[39;49m\u001b[43m__prepare_partitions\u001b[49m\u001b[43m(\u001b[49m\u001b[43m)\u001b[49m\n",
      "File \u001b[0;32m~/ERASURE/erasure/data/datasets/DatasetManager.py:35\u001b[0m, in \u001b[0;36mDatasetManager.__prepare_partitions\u001b[0;34m(self)\u001b[0m\n\u001b[1;32m     34\u001b[0m \u001b[38;5;28;01mdef\u001b[39;00m \u001b[38;5;21m__prepare_partitions\u001b[39m(\u001b[38;5;28mself\u001b[39m):\n\u001b[0;32m---> 35\u001b[0m     \u001b[38;5;28;43mself\u001b[39;49m\u001b[38;5;241;43m.\u001b[39;49m\u001b[43madd_partitions\u001b[49m\u001b[43m(\u001b[49m\u001b[38;5;28;43mself\u001b[39;49m\u001b[38;5;241;43m.\u001b[39;49m\u001b[43mparts_cfgs\u001b[49m\u001b[43m)\u001b[49m\n",
      "File \u001b[0;32m~/ERASURE/erasure/data/datasets/DatasetManager.py:40\u001b[0m, in \u001b[0;36mDatasetManager.add_partitions\u001b[0;34m(self, splits, postfix)\u001b[0m\n\u001b[1;32m     38\u001b[0m \u001b[38;5;28;01mdef\u001b[39;00m \u001b[38;5;21madd_partitions\u001b[39m(\u001b[38;5;28mself\u001b[39m, splits, postfix\u001b[38;5;241m=\u001b[39m\u001b[38;5;124m\"\u001b[39m\u001b[38;5;124m\"\u001b[39m):\n\u001b[1;32m     39\u001b[0m     \u001b[38;5;28;01mfor\u001b[39;00m split \u001b[38;5;129;01min\u001b[39;00m splits:\n\u001b[0;32m---> 40\u001b[0m         \u001b[38;5;28;43mself\u001b[39;49m\u001b[38;5;241;43m.\u001b[39;49m\u001b[43madd_partition\u001b[49m\u001b[43m(\u001b[49m\u001b[43msplit\u001b[49m\u001b[43m,\u001b[49m\u001b[43mpostfix\u001b[49m\u001b[43m)\u001b[49m\n\u001b[1;32m     42\u001b[0m     \u001b[38;5;28mself\u001b[39m\u001b[38;5;241m.\u001b[39minfo(\u001b[38;5;28mlist\u001b[39m(\u001b[38;5;28mself\u001b[39m\u001b[38;5;241m.\u001b[39mpartitions\u001b[38;5;241m.\u001b[39mkeys()))\n",
      "File \u001b[0;32m~/ERASURE/erasure/data/datasets/DatasetManager.py:50\u001b[0m, in \u001b[0;36mDatasetManager.add_partition\u001b[0;34m(self, split, postfix)\u001b[0m\n\u001b[1;32m     47\u001b[0m splitted_data \u001b[38;5;241m=\u001b[39m get_instance_config(split)\n\u001b[1;32m     48\u001b[0m splitted_data\u001b[38;5;241m.\u001b[39mset_source(\u001b[38;5;28mself\u001b[39m\u001b[38;5;241m.\u001b[39mdatasource)\n\u001b[0;32m---> 50\u001b[0m \u001b[38;5;28mself\u001b[39m\u001b[38;5;241m.\u001b[39mpartitions \u001b[38;5;241m=\u001b[39m \u001b[43msplitted_data\u001b[49m\u001b[38;5;241;43m.\u001b[39;49m\u001b[43msplit_data\u001b[49m\u001b[43m(\u001b[49m\u001b[38;5;28;43mself\u001b[39;49m\u001b[38;5;241;43m.\u001b[39;49m\u001b[43mpartitions\u001b[49m\u001b[43m)\u001b[49m\n\u001b[1;32m     52\u001b[0m \u001b[38;5;28mself\u001b[39m\u001b[38;5;241m.\u001b[39minfo(\u001b[38;5;28mlist\u001b[39m(\u001b[38;5;28mself\u001b[39m\u001b[38;5;241m.\u001b[39mpartitions\u001b[38;5;241m.\u001b[39mkeys()))\n",
      "File \u001b[0;32m~/ERASURE/erasure/data/datasets/DataSplitter.py:128\u001b[0m, in \u001b[0;36mDataSplitterByZ.split_data\u001b[0;34m(self, partitions)\u001b[0m\n\u001b[1;32m    126\u001b[0m current_index \u001b[38;5;241m=\u001b[39m \u001b[38;5;241m0\u001b[39m  \u001b[38;5;66;03m# To track the global index of each batch\u001b[39;00m\n\u001b[1;32m    127\u001b[0m \u001b[38;5;28;01mimport\u001b[39;00m \u001b[38;5;21;01mtorch\u001b[39;00m\n\u001b[0;32m--> 128\u001b[0m \u001b[38;5;28;01mfor\u001b[39;00m batch \u001b[38;5;129;01min\u001b[39;00m tqdm(dataloader, desc\u001b[38;5;241m=\u001b[39m\u001b[38;5;124m\"\u001b[39m\u001b[38;5;124mFiltering Data\u001b[39m\u001b[38;5;124m\"\u001b[39m):\n\u001b[1;32m    129\u001b[0m     _, _, Z \u001b[38;5;241m=\u001b[39m batch  \u001b[38;5;66;03m# Assuming Z is the third element in the batch\u001b[39;00m\n\u001b[1;32m    131\u001b[0m     \u001b[38;5;66;03m# Apply a boolean mask to find matching Z values\u001b[39;00m\n",
      "File \u001b[0;32m~/miniconda3/envs/representer/lib/python3.9/site-packages/tqdm/std.py:1181\u001b[0m, in \u001b[0;36mtqdm.__iter__\u001b[0;34m(self)\u001b[0m\n\u001b[1;32m   1178\u001b[0m time \u001b[38;5;241m=\u001b[39m \u001b[38;5;28mself\u001b[39m\u001b[38;5;241m.\u001b[39m_time\n\u001b[1;32m   1180\u001b[0m \u001b[38;5;28;01mtry\u001b[39;00m:\n\u001b[0;32m-> 1181\u001b[0m     \u001b[38;5;28;01mfor\u001b[39;00m obj \u001b[38;5;129;01min\u001b[39;00m iterable:\n\u001b[1;32m   1182\u001b[0m         \u001b[38;5;28;01myield\u001b[39;00m obj\n\u001b[1;32m   1183\u001b[0m         \u001b[38;5;66;03m# Update and possibly print the progressbar.\u001b[39;00m\n\u001b[1;32m   1184\u001b[0m         \u001b[38;5;66;03m# Note: does not call self.update(1) for speed optimisation.\u001b[39;00m\n",
      "File \u001b[0;32m~/miniconda3/envs/representer/lib/python3.9/site-packages/torch/utils/data/dataloader.py:631\u001b[0m, in \u001b[0;36m_BaseDataLoaderIter.__next__\u001b[0;34m(self)\u001b[0m\n\u001b[1;32m    628\u001b[0m \u001b[38;5;28;01mif\u001b[39;00m \u001b[38;5;28mself\u001b[39m\u001b[38;5;241m.\u001b[39m_sampler_iter \u001b[38;5;129;01mis\u001b[39;00m \u001b[38;5;28;01mNone\u001b[39;00m:\n\u001b[1;32m    629\u001b[0m     \u001b[38;5;66;03m# TODO(https://github.com/pytorch/pytorch/issues/76750)\u001b[39;00m\n\u001b[1;32m    630\u001b[0m     \u001b[38;5;28mself\u001b[39m\u001b[38;5;241m.\u001b[39m_reset()  \u001b[38;5;66;03m# type: ignore[call-arg]\u001b[39;00m\n\u001b[0;32m--> 631\u001b[0m data \u001b[38;5;241m=\u001b[39m \u001b[38;5;28;43mself\u001b[39;49m\u001b[38;5;241;43m.\u001b[39;49m\u001b[43m_next_data\u001b[49m\u001b[43m(\u001b[49m\u001b[43m)\u001b[49m\n\u001b[1;32m    632\u001b[0m \u001b[38;5;28mself\u001b[39m\u001b[38;5;241m.\u001b[39m_num_yielded \u001b[38;5;241m+\u001b[39m\u001b[38;5;241m=\u001b[39m \u001b[38;5;241m1\u001b[39m\n\u001b[1;32m    633\u001b[0m \u001b[38;5;28;01mif\u001b[39;00m \u001b[38;5;28mself\u001b[39m\u001b[38;5;241m.\u001b[39m_dataset_kind \u001b[38;5;241m==\u001b[39m _DatasetKind\u001b[38;5;241m.\u001b[39mIterable \u001b[38;5;129;01mand\u001b[39;00m \\\n\u001b[1;32m    634\u001b[0m         \u001b[38;5;28mself\u001b[39m\u001b[38;5;241m.\u001b[39m_IterableDataset_len_called \u001b[38;5;129;01mis\u001b[39;00m \u001b[38;5;129;01mnot\u001b[39;00m \u001b[38;5;28;01mNone\u001b[39;00m \u001b[38;5;129;01mand\u001b[39;00m \\\n\u001b[1;32m    635\u001b[0m         \u001b[38;5;28mself\u001b[39m\u001b[38;5;241m.\u001b[39m_num_yielded \u001b[38;5;241m>\u001b[39m \u001b[38;5;28mself\u001b[39m\u001b[38;5;241m.\u001b[39m_IterableDataset_len_called:\n",
      "File \u001b[0;32m~/miniconda3/envs/representer/lib/python3.9/site-packages/torch/utils/data/dataloader.py:675\u001b[0m, in \u001b[0;36m_SingleProcessDataLoaderIter._next_data\u001b[0;34m(self)\u001b[0m\n\u001b[1;32m    673\u001b[0m \u001b[38;5;28;01mdef\u001b[39;00m \u001b[38;5;21m_next_data\u001b[39m(\u001b[38;5;28mself\u001b[39m):\n\u001b[1;32m    674\u001b[0m     index \u001b[38;5;241m=\u001b[39m \u001b[38;5;28mself\u001b[39m\u001b[38;5;241m.\u001b[39m_next_index()  \u001b[38;5;66;03m# may raise StopIteration\u001b[39;00m\n\u001b[0;32m--> 675\u001b[0m     data \u001b[38;5;241m=\u001b[39m \u001b[38;5;28;43mself\u001b[39;49m\u001b[38;5;241;43m.\u001b[39;49m\u001b[43m_dataset_fetcher\u001b[49m\u001b[38;5;241;43m.\u001b[39;49m\u001b[43mfetch\u001b[49m\u001b[43m(\u001b[49m\u001b[43mindex\u001b[49m\u001b[43m)\u001b[49m  \u001b[38;5;66;03m# may raise StopIteration\u001b[39;00m\n\u001b[1;32m    676\u001b[0m     \u001b[38;5;28;01mif\u001b[39;00m \u001b[38;5;28mself\u001b[39m\u001b[38;5;241m.\u001b[39m_pin_memory:\n\u001b[1;32m    677\u001b[0m         data \u001b[38;5;241m=\u001b[39m _utils\u001b[38;5;241m.\u001b[39mpin_memory\u001b[38;5;241m.\u001b[39mpin_memory(data, \u001b[38;5;28mself\u001b[39m\u001b[38;5;241m.\u001b[39m_pin_memory_device)\n",
      "File \u001b[0;32m~/miniconda3/envs/representer/lib/python3.9/site-packages/torch/utils/data/_utils/fetch.py:51\u001b[0m, in \u001b[0;36m_MapDatasetFetcher.fetch\u001b[0;34m(self, possibly_batched_index)\u001b[0m\n\u001b[1;32m     49\u001b[0m         data \u001b[38;5;241m=\u001b[39m \u001b[38;5;28mself\u001b[39m\u001b[38;5;241m.\u001b[39mdataset\u001b[38;5;241m.\u001b[39m__getitems__(possibly_batched_index)\n\u001b[1;32m     50\u001b[0m     \u001b[38;5;28;01melse\u001b[39;00m:\n\u001b[0;32m---> 51\u001b[0m         data \u001b[38;5;241m=\u001b[39m [\u001b[38;5;28mself\u001b[39m\u001b[38;5;241m.\u001b[39mdataset[idx] \u001b[38;5;28;01mfor\u001b[39;00m idx \u001b[38;5;129;01min\u001b[39;00m possibly_batched_index]\n\u001b[1;32m     52\u001b[0m \u001b[38;5;28;01melse\u001b[39;00m:\n\u001b[1;32m     53\u001b[0m     data \u001b[38;5;241m=\u001b[39m \u001b[38;5;28mself\u001b[39m\u001b[38;5;241m.\u001b[39mdataset[possibly_batched_index]\n",
      "File \u001b[0;32m~/miniconda3/envs/representer/lib/python3.9/site-packages/torch/utils/data/_utils/fetch.py:51\u001b[0m, in \u001b[0;36m<listcomp>\u001b[0;34m(.0)\u001b[0m\n\u001b[1;32m     49\u001b[0m         data \u001b[38;5;241m=\u001b[39m \u001b[38;5;28mself\u001b[39m\u001b[38;5;241m.\u001b[39mdataset\u001b[38;5;241m.\u001b[39m__getitems__(possibly_batched_index)\n\u001b[1;32m     50\u001b[0m     \u001b[38;5;28;01melse\u001b[39;00m:\n\u001b[0;32m---> 51\u001b[0m         data \u001b[38;5;241m=\u001b[39m [\u001b[38;5;28;43mself\u001b[39;49m\u001b[38;5;241;43m.\u001b[39;49m\u001b[43mdataset\u001b[49m\u001b[43m[\u001b[49m\u001b[43midx\u001b[49m\u001b[43m]\u001b[49m \u001b[38;5;28;01mfor\u001b[39;00m idx \u001b[38;5;129;01min\u001b[39;00m possibly_batched_index]\n\u001b[1;32m     52\u001b[0m \u001b[38;5;28;01melse\u001b[39;00m:\n\u001b[1;32m     53\u001b[0m     data \u001b[38;5;241m=\u001b[39m \u001b[38;5;28mself\u001b[39m\u001b[38;5;241m.\u001b[39mdataset[possibly_batched_index]\n",
      "File \u001b[0;32m~/ERASURE/erasure/data/datasets/Dataset.py:48\u001b[0m, in \u001b[0;36mDatasetExtendedWrapper.__getitem__\u001b[0;34m(self, index)\u001b[0m\n\u001b[1;32m     47\u001b[0m \u001b[38;5;28;01mdef\u001b[39;00m \u001b[38;5;21m__getitem__\u001b[39m(\u001b[38;5;28mself\u001b[39m, index: \u001b[38;5;28mint\u001b[39m):\n\u001b[0;32m---> 48\u001b[0m     X,y \u001b[38;5;241m=\u001b[39m \u001b[38;5;28;43mself\u001b[39;49m\u001b[38;5;241;43m.\u001b[39;49m\u001b[43minst\u001b[49m\u001b[38;5;241;43m.\u001b[39;49m\u001b[43m__realgetitem__\u001b[49m\u001b[43m(\u001b[49m\u001b[43mindex\u001b[49m\u001b[43m)\u001b[49m\n\u001b[1;32m     49\u001b[0m     X,y,Z \u001b[38;5;241m=\u001b[39m \u001b[38;5;28mself\u001b[39m\u001b[38;5;241m.\u001b[39mapply_preprocessing(X, y, \u001b[38;5;28;01mNone\u001b[39;00m)\n\u001b[1;32m     50\u001b[0m     \u001b[38;5;28;01mreturn\u001b[39;00m X,y,Z\n",
      "File \u001b[0;32m~/ERASURE/erasure/data/datasets/Dataset.py:22\u001b[0m, in \u001b[0;36mDatasetWrapper.__realgetitem__\u001b[0;34m(self, index)\u001b[0m\n\u001b[1;32m     21\u001b[0m \u001b[38;5;28;01mdef\u001b[39;00m \u001b[38;5;21m__realgetitem__\u001b[39m(\u001b[38;5;28mself\u001b[39m, index: \u001b[38;5;28mint\u001b[39m):\n\u001b[0;32m---> 22\u001b[0m     sample \u001b[38;5;241m=\u001b[39m \u001b[38;5;28;43mself\u001b[39;49m\u001b[38;5;241;43m.\u001b[39;49m\u001b[43mdata\u001b[49m\u001b[43m[\u001b[49m\u001b[43mindex\u001b[49m\u001b[43m]\u001b[49m\n\u001b[1;32m     23\u001b[0m     X,y \u001b[38;5;241m=\u001b[39m sample\n\u001b[1;32m     24\u001b[0m     \u001b[38;5;28;01mreturn\u001b[39;00m X,y\n",
      "File \u001b[0;32m~/miniconda3/envs/representer/lib/python3.9/site-packages/torch/utils/data/dataset.py:391\u001b[0m, in \u001b[0;36mSubset.__getitem__\u001b[0;34m(self, idx)\u001b[0m\n\u001b[1;32m    389\u001b[0m \u001b[38;5;28;01mif\u001b[39;00m \u001b[38;5;28misinstance\u001b[39m(idx, \u001b[38;5;28mlist\u001b[39m):\n\u001b[1;32m    390\u001b[0m     \u001b[38;5;28;01mreturn\u001b[39;00m \u001b[38;5;28mself\u001b[39m\u001b[38;5;241m.\u001b[39mdataset[[\u001b[38;5;28mself\u001b[39m\u001b[38;5;241m.\u001b[39mindices[i] \u001b[38;5;28;01mfor\u001b[39;00m i \u001b[38;5;129;01min\u001b[39;00m idx]]\n\u001b[0;32m--> 391\u001b[0m \u001b[38;5;28;01mreturn\u001b[39;00m \u001b[38;5;28;43mself\u001b[39;49m\u001b[38;5;241;43m.\u001b[39;49m\u001b[43mdataset\u001b[49m\u001b[43m[\u001b[49m\u001b[38;5;28;43mself\u001b[39;49m\u001b[38;5;241;43m.\u001b[39;49m\u001b[43mindices\u001b[49m\u001b[43m[\u001b[49m\u001b[43midx\u001b[49m\u001b[43m]\u001b[49m\u001b[43m]\u001b[49m\n",
      "File \u001b[0;32m~/miniconda3/envs/representer/lib/python3.9/site-packages/torch/utils/data/dataset.py:335\u001b[0m, in \u001b[0;36mConcatDataset.__getitem__\u001b[0;34m(self, idx)\u001b[0m\n\u001b[1;32m    333\u001b[0m \u001b[38;5;28;01melse\u001b[39;00m:\n\u001b[1;32m    334\u001b[0m     sample_idx \u001b[38;5;241m=\u001b[39m idx \u001b[38;5;241m-\u001b[39m \u001b[38;5;28mself\u001b[39m\u001b[38;5;241m.\u001b[39mcumulative_sizes[dataset_idx \u001b[38;5;241m-\u001b[39m \u001b[38;5;241m1\u001b[39m]\n\u001b[0;32m--> 335\u001b[0m \u001b[38;5;28;01mreturn\u001b[39;00m \u001b[38;5;28;43mself\u001b[39;49m\u001b[38;5;241;43m.\u001b[39;49m\u001b[43mdatasets\u001b[49m\u001b[43m[\u001b[49m\u001b[43mdataset_idx\u001b[49m\u001b[43m]\u001b[49m\u001b[43m[\u001b[49m\u001b[43msample_idx\u001b[49m\u001b[43m]\u001b[49m\n",
      "File \u001b[0;32m~/miniconda3/envs/representer/lib/python3.9/site-packages/torchvision/datasets/celeba.py:159\u001b[0m, in \u001b[0;36mCelebA.__getitem__\u001b[0;34m(self, index)\u001b[0m\n\u001b[1;32m    158\u001b[0m \u001b[38;5;28;01mdef\u001b[39;00m \u001b[38;5;21m__getitem__\u001b[39m(\u001b[38;5;28mself\u001b[39m, index: \u001b[38;5;28mint\u001b[39m) \u001b[38;5;241m-\u001b[39m\u001b[38;5;241m>\u001b[39m Tuple[Any, Any]:\n\u001b[0;32m--> 159\u001b[0m     X \u001b[38;5;241m=\u001b[39m \u001b[43mPIL\u001b[49m\u001b[38;5;241;43m.\u001b[39;49m\u001b[43mImage\u001b[49m\u001b[38;5;241;43m.\u001b[39;49m\u001b[43mopen\u001b[49m\u001b[43m(\u001b[49m\u001b[43mos\u001b[49m\u001b[38;5;241;43m.\u001b[39;49m\u001b[43mpath\u001b[49m\u001b[38;5;241;43m.\u001b[39;49m\u001b[43mjoin\u001b[49m\u001b[43m(\u001b[49m\u001b[38;5;28;43mself\u001b[39;49m\u001b[38;5;241;43m.\u001b[39;49m\u001b[43mroot\u001b[49m\u001b[43m,\u001b[49m\u001b[43m \u001b[49m\u001b[38;5;28;43mself\u001b[39;49m\u001b[38;5;241;43m.\u001b[39;49m\u001b[43mbase_folder\u001b[49m\u001b[43m,\u001b[49m\u001b[43m \u001b[49m\u001b[38;5;124;43m\"\u001b[39;49m\u001b[38;5;124;43mimg_align_celeba\u001b[39;49m\u001b[38;5;124;43m\"\u001b[39;49m\u001b[43m,\u001b[49m\u001b[43m \u001b[49m\u001b[38;5;28;43mself\u001b[39;49m\u001b[38;5;241;43m.\u001b[39;49m\u001b[43mfilename\u001b[49m\u001b[43m[\u001b[49m\u001b[43mindex\u001b[49m\u001b[43m]\u001b[49m\u001b[43m)\u001b[49m\u001b[43m)\u001b[49m\n\u001b[1;32m    161\u001b[0m     target: Any \u001b[38;5;241m=\u001b[39m []\n\u001b[1;32m    162\u001b[0m     \u001b[38;5;28;01mfor\u001b[39;00m t \u001b[38;5;129;01min\u001b[39;00m \u001b[38;5;28mself\u001b[39m\u001b[38;5;241m.\u001b[39mtarget_type:\n",
      "File \u001b[0;32m~/miniconda3/envs/representer/lib/python3.9/site-packages/PIL/Image.py:3247\u001b[0m, in \u001b[0;36mopen\u001b[0;34m(fp, mode, formats)\u001b[0m\n\u001b[1;32m   3244\u001b[0m     filename \u001b[38;5;241m=\u001b[39m fp\n\u001b[1;32m   3246\u001b[0m \u001b[38;5;28;01mif\u001b[39;00m filename:\n\u001b[0;32m-> 3247\u001b[0m     fp \u001b[38;5;241m=\u001b[39m \u001b[43mbuiltins\u001b[49m\u001b[38;5;241;43m.\u001b[39;49m\u001b[43mopen\u001b[49m\u001b[43m(\u001b[49m\u001b[43mfilename\u001b[49m\u001b[43m,\u001b[49m\u001b[43m \u001b[49m\u001b[38;5;124;43m\"\u001b[39;49m\u001b[38;5;124;43mrb\u001b[39;49m\u001b[38;5;124;43m\"\u001b[39;49m\u001b[43m)\u001b[49m\n\u001b[1;32m   3248\u001b[0m     exclusive_fp \u001b[38;5;241m=\u001b[39m \u001b[38;5;28;01mTrue\u001b[39;00m\n\u001b[1;32m   3250\u001b[0m \u001b[38;5;28;01mtry\u001b[39;00m:\n",
      "\u001b[0;31mKeyboardInterrupt\u001b[0m: "
     ]
    }
   ],
   "source": [
    "config_file = os.path.join(\"configs\", \"example_celeba.jsonc\")\n",
    "#config_file = os.path.join(\"configs\", \"example.jsonc\")\n",
    "\n",
    "\n",
    "global_ctx = Global(config_file)\n",
    "global_ctx.factory = ConfigurableFactory(global_ctx)\n",
    "\n",
    "global_ctx.logger.info(f\"Current PyTorch seed: {torch.initial_seed()}\")\n",
    "\n",
    "#Create Dataset\n",
    "print(\"CONFIG DATA \", global_ctx.config.data)\n",
    "data_manager = global_ctx.factory.get_object( Local( global_ctx.config.data ))"
   ]
  },
  {
   "cell_type": "code",
   "execution_count": 3,
   "metadata": {},
   "outputs": [
    {
     "data": {
      "text/plain": [
       "2"
      ]
     },
     "execution_count": 3,
     "metadata": {},
     "output_type": "execute_result"
    }
   ],
   "source": [
    "data_manager.n_classes"
   ]
  },
  {
   "cell_type": "code",
   "execution_count": 4,
   "metadata": {},
   "outputs": [],
   "source": [
    "loader, _ = data_manager.get_loader_for('forget')"
   ]
  },
  {
   "cell_type": "code",
   "execution_count": 6,
   "metadata": {},
   "outputs": [
    {
     "name": "stdout",
     "output_type": "stream",
     "text": [
      "30\n"
     ]
    }
   ],
   "source": [
    "i=0\n",
    "for X,y in loader:\n",
    "    print(len(y))\n",
    "    i = i +1\n",
    "    if i == 3:\n",
    "        break"
   ]
  },
  {
   "cell_type": "code",
   "execution_count": 6,
   "metadata": {},
   "outputs": [
    {
     "data": {
      "text/plain": [
       "<torch.utils.data.dataloader.DataLoader at 0x7fd11425ac70>"
      ]
     },
     "execution_count": 6,
     "metadata": {},
     "output_type": "execute_result"
    }
   ],
   "source": [
    "loader"
   ]
  },
  {
   "cell_type": "code",
   "execution_count": 7,
   "metadata": {},
   "outputs": [
    {
     "name": "stdout",
     "output_type": "stream",
     "text": [
      "2024-12-11 16:38:20,-1235287196 | INFO | 1975738 - TRAINING WITH 700 samples\n"
     ]
    }
   ],
   "source": [
    "loader, _ = data_manager.get_loader_for('train')"
   ]
  },
  {
   "cell_type": "code",
   "execution_count": null,
   "metadata": {},
   "outputs": [
    {
     "name": "stdout",
     "output_type": "stream",
     "text": [
      "torch.Size([128, 1, 28, 28])\n",
      "torch.Size([128, 1, 28, 28])\n",
      "torch.Size([128, 1, 28, 28])\n"
     ]
    }
   ],
   "source": [
    "i=0\n",
    "for X,y in loader:\n",
    "    print(X.shape)\n",
    "    i = i +1\n",
    "    if i == 3:\n",
    "        break"
   ]
  },
  {
   "cell_type": "code",
   "execution_count": 17,
   "metadata": {},
   "outputs": [
    {
     "name": "stdout",
     "output_type": "stream",
     "text": [
      "tensor([1, 1, 1, 1, 1, 1, 1, 1, 1, 1, 1, 1, 1, 1, 1, 1, 1, 1, 1, 1, 1, 1, 1, 1,\n",
      "        1, 1, 1, 1, 1, 1, 1, 1, 1, 1, 1, 1, 1, 1, 1, 1, 1, 1, 1, 1, 1, 1, 1, 1,\n",
      "        1, 1, 1, 1, 1, 1, 1, 1, 1, 1, 1, 1, 1, 1, 1, 1, 1, 1, 1, 1, 1])\n"
     ]
    }
   ],
   "source": [
    "data_manager.partitions['forget']\n",
    "loader, _ = data_manager.get_loader_for('forget')\n",
    "i=0\n",
    "for X,y in loader:\n",
    "    print(y)\n",
    "    i = i +1\n",
    "    if i == 3:\n",
    "        break"
   ]
  },
  {
   "cell_type": "code",
   "execution_count": 20,
   "metadata": {},
   "outputs": [
    {
     "name": "stdout",
     "output_type": "stream",
     "text": [
      "2024-12-11 15:37:35,-1238931755 | INFO | 1950243 - Instantiating: erasure.model.classifiers.standard_classifier.IrisNN\n",
      "2024-12-11 15:37:35,-1238931752 | INFO | 1950243 - Instantiating: torch.optim.Adam\n",
      "2024-12-11 15:37:35,-1238931751 | INFO | 1950243 - Instantiating: torch.nn.CrossEntropyLoss\n",
      "2024-12-11 15:37:35,-1238931720 | INFO | 1950243 - TRAINING WITH 120 samples\n",
      "2024-12-11 15:37:35,-1238931697 | INFO | 1950243 - epoch = 0 ---> loss = 2.0275\t accuracy = 0.4167\n",
      "2024-12-11 15:37:35,-1238931673 | INFO | 1950243 - epoch = 1 ---> loss = 1.3810\t accuracy = 0.4167\n",
      "2024-12-11 15:37:35,-1238931648 | INFO | 1950243 - epoch = 2 ---> loss = 0.9923\t accuracy = 0.4167\n",
      "2024-12-11 15:37:35,-1238931604 | INFO | 1950243 - epoch = 3 ---> loss = 0.8879\t accuracy = 0.8333\n",
      "2024-12-11 15:37:36,-1238931580 | INFO | 1950243 - epoch = 4 ---> loss = 0.8840\t accuracy = 0.4333\n",
      "2024-12-11 15:37:36,-1238931538 | INFO | 1950243 - epoch = 5 ---> loss = 0.8328\t accuracy = 0.5083\n",
      "2024-12-11 15:37:36,-1238931506 | INFO | 1950243 - epoch = 6 ---> loss = 0.7185\t accuracy = 0.8083\n",
      "2024-12-11 15:37:36,-1238931482 | INFO | 1950243 - epoch = 7 ---> loss = 0.5993\t accuracy = 0.8333\n",
      "2024-12-11 15:37:36,-1238931458 | INFO | 1950243 - epoch = 8 ---> loss = 0.5259\t accuracy = 0.8333\n",
      "2024-12-11 15:37:36,-1238931435 | INFO | 1950243 - epoch = 9 ---> loss = 0.4984\t accuracy = 0.8500\n",
      "2024-12-11 15:37:36,-1238931419 | INFO | 1950243 - epoch = 10 ---> loss = 0.4844\t accuracy = 0.9750\n",
      "2024-12-11 15:37:36,-1238931356 | INFO | 1950243 - epoch = 11 ---> loss = 0.4661\t accuracy = 0.9417\n",
      "2024-12-11 15:37:36,-1238931327 | INFO | 1950243 - epoch = 12 ---> loss = 0.4349\t accuracy = 0.9417\n",
      "2024-12-11 15:37:36,-1238931241 | INFO | 1950243 - epoch = 13 ---> loss = 0.3928\t accuracy = 0.9833\n",
      "2024-12-11 15:37:36,-1238931190 | INFO | 1950243 - epoch = 14 ---> loss = 0.3520\t accuracy = 0.9750\n",
      "2024-12-11 15:37:36,-1238931167 | INFO | 1950243 - epoch = 15 ---> loss = 0.3268\t accuracy = 0.8833\n",
      "2024-12-11 15:37:36,-1238931149 | INFO | 1950243 - epoch = 16 ---> loss = 0.3103\t accuracy = 0.8583\n",
      "2024-12-11 15:37:36,-1238931095 | INFO | 1950243 - epoch = 17 ---> loss = 0.3009\t accuracy = 0.8500\n",
      "2024-12-11 15:37:36,-1238931073 | INFO | 1950243 - epoch = 18 ---> loss = 0.2913\t accuracy = 0.8500\n",
      "2024-12-11 15:37:36,-1238931041 | INFO | 1950243 - epoch = 19 ---> loss = 0.2801\t accuracy = 0.8750\n",
      "2024-12-11 15:37:36,-1238930981 | INFO | 1950243 - epoch = 20 ---> loss = 0.2696\t accuracy = 0.9167\n",
      "2024-12-11 15:37:36,-1238930936 | INFO | 1950243 - epoch = 21 ---> loss = 0.2593\t accuracy = 0.9667\n",
      "2024-12-11 15:37:36,-1238930912 | INFO | 1950243 - epoch = 22 ---> loss = 0.2470\t accuracy = 0.9750\n",
      "2024-12-11 15:37:36,-1238930893 | INFO | 1950243 - epoch = 23 ---> loss = 0.2324\t accuracy = 0.9833\n",
      "2024-12-11 15:37:36,-1238930856 | INFO | 1950243 - epoch = 24 ---> loss = 0.2188\t accuracy = 0.9750\n",
      "2024-12-11 15:37:36,-1238930821 | INFO | 1950243 - epoch = 25 ---> loss = 0.2083\t accuracy = 0.9500\n",
      "2024-12-11 15:37:36,-1238930791 | INFO | 1950243 - epoch = 26 ---> loss = 0.2002\t accuracy = 0.9417\n",
      "2024-12-11 15:37:36,-1238930728 | INFO | 1950243 - epoch = 27 ---> loss = 0.1925\t accuracy = 0.9500\n",
      "2024-12-11 15:37:36,-1238930689 | INFO | 1950243 - epoch = 28 ---> loss = 0.1842\t accuracy = 0.9750\n",
      "2024-12-11 15:37:36,-1238930645 | INFO | 1950243 - epoch = 29 ---> loss = 0.1764\t accuracy = 0.9833\n",
      "2024-12-11 15:37:36,-1238930620 | INFO | 1950243 - epoch = 30 ---> loss = 0.1702\t accuracy = 0.9833\n",
      "2024-12-11 15:37:37,-1238930570 | INFO | 1950243 - epoch = 31 ---> loss = 0.1645\t accuracy = 0.9833\n",
      "2024-12-11 15:37:37,-1238930549 | INFO | 1950243 - epoch = 32 ---> loss = 0.1581\t accuracy = 0.9833\n",
      "2024-12-11 15:37:37,-1238930504 | INFO | 1950243 - epoch = 33 ---> loss = 0.1515\t accuracy = 0.9833\n",
      "2024-12-11 15:37:37,-1238930423 | INFO | 1950243 - epoch = 34 ---> loss = 0.1459\t accuracy = 0.9917\n",
      "2024-12-11 15:37:37,-1238930348 | INFO | 1950243 - epoch = 35 ---> loss = 0.1411\t accuracy = 0.9917\n",
      "2024-12-11 15:37:37,-1238930324 | INFO | 1950243 - epoch = 36 ---> loss = 0.1361\t accuracy = 0.9917\n",
      "2024-12-11 15:37:37,-1238930241 | INFO | 1950243 - epoch = 37 ---> loss = 0.1308\t accuracy = 0.9833\n",
      "2024-12-11 15:37:37,-1238930194 | INFO | 1950243 - epoch = 38 ---> loss = 0.1261\t accuracy = 0.9833\n",
      "2024-12-11 15:37:37,-1238930171 | INFO | 1950243 - epoch = 39 ---> loss = 0.1221\t accuracy = 0.9833\n",
      "2024-12-11 15:37:37,-1238930169 | INFO | 1950243 - TorchModel trained on cpu in: 1.5507633686065674 secs\n",
      "2024-12-11 15:37:37,-1238930168 | INFO | 1950243 - Created Configurable: erasure.model.TorchModel.TorchModel\n",
      "2024-12-11 15:37:37,-1238930164 | INFO | 1950243 - Global Predictor: <erasure.model.TorchModel.TorchModel object at 0x7f5b6e2e0f40>\n",
      "2024-12-11 15:37:37,-1238930147 | INFO | 1950243 - Created Configurable: erasure.unlearners.GoldModel.GoldModel\n",
      "2024-12-11 15:37:37,-1238930104 | INFO | 1950243 - Created Configurable: erasure.evaluations.running.RunTime\n",
      "2024-12-11 15:37:37,-1238930082 | INFO | 1950243 - Loaded: <function f1_score at 0x7f5b7796a790>\n",
      "2024-12-11 15:37:37,-1238930081 | INFO | 1950243 - Created Configurable: erasure.evaluations.measures.TorchSKLearn\n",
      "2024-12-11 15:37:37,-1238930077 | INFO | 1950243 - Loaded: <function accuracy_score at 0x7f5b77962f70>\n",
      "2024-12-11 15:37:37,-1238930076 | INFO | 1950243 - Created Configurable: erasure.evaluations.measures.TorchSKLearn\n",
      "2024-12-11 15:37:37,-1238930072 | INFO | 1950243 - Loaded: <function accuracy_score at 0x7f5b77962f70>\n",
      "2024-12-11 15:37:37,-1238930072 | INFO | 1950243 - Created Configurable: erasure.evaluations.measures.TorchSKLearn\n",
      "2024-12-11 15:37:37,-1238930068 | INFO | 1950243 - Loaded: <function accuracy_score at 0x7f5b77962f70>\n",
      "2024-12-11 15:37:37,-1238930067 | INFO | 1950243 - Created Configurable: erasure.evaluations.measures.TorchSKLearn\n",
      "2024-12-11 15:37:37,-1238930064 | INFO | 1950243 - Loaded: <function accuracy_score at 0x7f5b77962f70>\n",
      "2024-12-11 15:37:37,-1238930050 | INFO | 1950243 - Created Configurable: erasure.evaluations.measures.TorchSKLearn\n",
      "2024-12-11 15:37:37,-1238930037 | INFO | 1950243 - Loaded: <function accuracy_score at 0x7f5b77962f70>\n",
      "2024-12-11 15:37:37,-1238930036 | INFO | 1950243 - Created Configurable: erasure.evaluations.measures.TorchSKLearn\n",
      "2024-12-11 15:37:37,-1238930028 | INFO | 1950243 - Loaded: <function accuracy_score at 0x7f5b77962f70>\n",
      "2024-12-11 15:37:37,-1238930023 | INFO | 1950243 - Created Configurable: erasure.evaluations.measures.TorchSKLearn\n",
      "2024-12-11 15:37:37,-1238930020 | INFO | 1950243 - Created Configurable: erasure.evaluations.measures.AUS\n",
      "2024-12-11 15:37:37,-1238930018 | INFO | 1950243 - Created Configurable: erasure.evaluations.measures.PartitionInfo\n",
      "2024-12-11 15:37:37,-1238930017 | INFO | 1950243 - Created Configurable: erasure.evaluations.measures.SaveValues\n",
      "2024-12-11 15:37:37,-1238930011 | INFO | 1950243 - Created Configurable: erasure.evaluations.manager.Evaluator\n",
      "2024-12-11 15:37:37,-1238930010 | INFO | 1950243 - ####\t\t Evaluating: GoldModel\t\t####\n",
      "2024-12-11 15:37:37,-1238930009 | INFO | 1950243 - Unlearning on predictor: <erasure.model.TorchModel.TorchModel object at 0x7f5b6e2d84c0>\n",
      "2024-12-11 15:37:37,-1238930006 | INFO | 1950243 - {'class': 'erasure.data.data_sources.UCIRepositoryDataSource.UCIRepositoryDataSource', 'parameters': {'id': 53, 'label': 'class'}}\n",
      "2024-12-11 15:37:37,-1238929992 | INFO | 1950243 - Created Configurable: erasure.data.preprocessing.preprocess.RemoveCharacter\n",
      "2024-12-11 15:37:37,-1238929989 | INFO | 1950243 - Created Configurable: erasure.data.preprocessing.dataset_specific.UCIRepository.IRIS_preprocess.IRISpreprocess\n",
      "2024-12-11 15:37:37,-1238929988 | INFO | 1950243 - Created Configurable: erasure.data.data_sources.UCIRepositoryDataSource.UCIRepositoryDataSource\n",
      "2024-12-11 15:37:39,-1238928510 | INFO | 1950243 - <torch.utils.data.dataset.ConcatDataset object at 0x7f5b6e2e1490>\n",
      "2024-12-11 15:37:39,-1238928507 | INFO | 1950243 - Instantiating: erasure.data.datasets.DataSplitter.DataSplitterPercentage\n",
      "2024-12-11 15:37:39,-1238928502 | INFO | 1950243 - ['all', 'all_reduced', '-']\n",
      "2024-12-11 15:37:39,-1238928501 | INFO | 1950243 - Instantiating: erasure.data.datasets.DataSplitter.DataSplitterPercentage\n",
      "2024-12-11 15:37:39,-1238928500 | INFO | 1950243 - ['all', 'all_reduced', '-', 'train', 'test']\n",
      "2024-12-11 15:37:39,-1238928500 | INFO | 1950243 - Instantiating: erasure.data.datasets.DataSplitter.DataSplitterClass\n",
      "2024-12-11 15:37:39,-1238928483 | INFO | 1950243 - ['all', 'all_reduced', '-', 'train', 'test', 'forget', 'retain']\n",
      "2024-12-11 15:37:39,-1238928481 | INFO | 1950243 - Instantiating: erasure.data.datasets.DataSplitter.DataSplitterNSamples\n",
      "2024-12-11 15:37:39,-1238928480 | INFO | 1950243 - ['all', 'all_reduced', '-', 'train', 'test', 'forget', 'retain', 'example']\n",
      "2024-12-11 15:37:39,-1238928479 | INFO | 1950243 - ['all', 'all_reduced', '-', 'train', 'test', 'forget', 'retain', 'example']\n",
      "2024-12-11 15:37:39,-1238928478 | INFO | 1950243 - Created Configurable: erasure.data.datasets.DatasetManager.DatasetManager\n",
      "REVISING SPLIT train with 20 samples\n",
      "ids_list: [100, 101, 102, 103, 104, 105, 106, 107, 108, 109, 110, 111, 112, 113, 114, 115, 116, 117, 118, 119]\n",
      "[0, 1, 2, 3, 4, 5, 6, 7, 8, 9, 10, 11, 12, 13, 14, 15, 16, 17, 18, 19, 20, 21, 22, 23, 24, 25, 26, 27, 28, 29, 30, 31, 32, 33, 34, 35, 36, 37, 38, 39, 40, 41, 42, 43, 44, 45, 46, 47, 48, 49, 50, 51, 52, 53, 54, 55, 56, 57, 58, 59, 60, 61, 62, 63, 64, 65, 66, 67, 68, 69, 70, 71, 72, 73, 74, 75, 76, 77, 78, 79, 80, 81, 82, 83, 84, 85, 86, 87, 88, 89, 90, 91, 92, 93, 94, 95, 96, 97, 98, 99, 100, 101, 102, 103, 104, 105, 106, 107, 108, 109, 110, 111, 112, 113, 114, 115, 116, 117, 118, 119]\n",
      "[100, 101, 102, 103, 104, 105, 106, 107, 108, 109, 110, 111, 112, 113, 114, 115, 116, 117, 118, 119]\n",
      "2024-12-11 15:37:39,-1238928475 | INFO | 1950243 - Instantiating: erasure.model.classifiers.standard_classifier.IrisNN\n",
      "2024-12-11 15:37:39,-1238928473 | INFO | 1950243 - Instantiating: torch.optim.Adam\n",
      "2024-12-11 15:37:39,-1238928471 | INFO | 1950243 - Instantiating: torch.nn.CrossEntropyLoss\n",
      "2024-12-11 15:37:39,-1238928470 | INFO | 1950243 - TRAINING WITH 100 samples\n",
      "2024-12-11 15:37:39,-1238928348 | INFO | 1950243 - epoch = 0 ---> loss = 1.9639\t accuracy = 0.5000\n",
      "2024-12-11 15:37:39,-1238928332 | INFO | 1950243 - epoch = 1 ---> loss = 1.2190\t accuracy = 0.5000\n",
      "2024-12-11 15:37:39,-1238928305 | INFO | 1950243 - epoch = 2 ---> loss = 0.7695\t accuracy = 0.5000\n",
      "2024-12-11 15:37:39,-1238928232 | INFO | 1950243 - epoch = 3 ---> loss = 0.5682\t accuracy = 1.0000\n",
      "2024-12-11 15:37:39,-1238928156 | INFO | 1950243 - epoch = 4 ---> loss = 0.5328\t accuracy = 0.5300\n",
      "2024-12-11 15:37:39,-1238928127 | INFO | 1950243 - epoch = 5 ---> loss = 0.4975\t accuracy = 0.5200\n",
      "2024-12-11 15:37:39,-1238928082 | INFO | 1950243 - epoch = 6 ---> loss = 0.4334\t accuracy = 0.6800\n",
      "2024-12-11 15:37:39,-1238928022 | INFO | 1950243 - epoch = 7 ---> loss = 0.3376\t accuracy = 1.0000\n",
      "2024-12-11 15:37:39,-1238927970 | INFO | 1950243 - epoch = 8 ---> loss = 0.2417\t accuracy = 1.0000\n",
      "2024-12-11 15:37:39,-1238927919 | INFO | 1950243 - epoch = 9 ---> loss = 0.1846\t accuracy = 1.0000\n",
      "2024-12-11 15:37:39,-1238927901 | INFO | 1950243 - epoch = 10 ---> loss = 0.1767\t accuracy = 1.0000\n",
      "2024-12-11 15:37:39,-1238927856 | INFO | 1950243 - epoch = 11 ---> loss = 0.1698\t accuracy = 1.0000\n",
      "2024-12-11 15:37:39,-1238927833 | INFO | 1950243 - epoch = 12 ---> loss = 0.1358\t accuracy = 1.0000\n",
      "2024-12-11 15:37:39,-1238927754 | INFO | 1950243 - epoch = 13 ---> loss = 0.0969\t accuracy = 1.0000\n",
      "2024-12-11 15:37:39,-1238927697 | INFO | 1950243 - epoch = 14 ---> loss = 0.0724\t accuracy = 1.0000\n",
      "2024-12-11 15:37:39,-1238927656 | INFO | 1950243 - epoch = 15 ---> loss = 0.0626\t accuracy = 1.0000\n",
      "2024-12-11 15:37:39,-1238927617 | INFO | 1950243 - epoch = 16 ---> loss = 0.0592\t accuracy = 1.0000\n",
      "2024-12-11 15:37:40,-1238927516 | INFO | 1950243 - epoch = 17 ---> loss = 0.0569\t accuracy = 1.0000\n",
      "2024-12-11 15:37:40,-1238927497 | INFO | 1950243 - epoch = 18 ---> loss = 0.0527\t accuracy = 1.0000\n",
      "2024-12-11 15:37:40,-1238927479 | INFO | 1950243 - epoch = 19 ---> loss = 0.0462\t accuracy = 1.0000\n",
      "2024-12-11 15:37:40,-1238927448 | INFO | 1950243 - epoch = 20 ---> loss = 0.0384\t accuracy = 1.0000\n",
      "2024-12-11 15:37:40,-1238927416 | INFO | 1950243 - epoch = 21 ---> loss = 0.0308\t accuracy = 1.0000\n",
      "2024-12-11 15:37:40,-1238927399 | INFO | 1950243 - epoch = 22 ---> loss = 0.0243\t accuracy = 1.0000\n",
      "2024-12-11 15:37:40,-1238927358 | INFO | 1950243 - epoch = 23 ---> loss = 0.0195\t accuracy = 1.0000\n",
      "2024-12-11 15:37:40,-1238927315 | INFO | 1950243 - epoch = 24 ---> loss = 0.0162\t accuracy = 1.0000\n",
      "2024-12-11 15:37:40,-1238927299 | INFO | 1950243 - epoch = 25 ---> loss = 0.0142\t accuracy = 1.0000\n",
      "2024-12-11 15:37:40,-1238927268 | INFO | 1950243 - epoch = 26 ---> loss = 0.0129\t accuracy = 1.0000\n",
      "2024-12-11 15:37:40,-1238927169 | INFO | 1950243 - epoch = 27 ---> loss = 0.0121\t accuracy = 1.0000\n",
      "2024-12-11 15:37:40,-1238927154 | INFO | 1950243 - epoch = 28 ---> loss = 0.0116\t accuracy = 1.0000\n",
      "2024-12-11 15:37:40,-1238927096 | INFO | 1950243 - epoch = 29 ---> loss = 0.0110\t accuracy = 1.0000\n",
      "2024-12-11 15:37:40,-1238927052 | INFO | 1950243 - epoch = 30 ---> loss = 0.0103\t accuracy = 1.0000\n",
      "2024-12-11 15:37:40,-1238927025 | INFO | 1950243 - epoch = 31 ---> loss = 0.0096\t accuracy = 1.0000\n",
      "2024-12-11 15:37:40,-1238926969 | INFO | 1950243 - epoch = 32 ---> loss = 0.0088\t accuracy = 1.0000\n",
      "2024-12-11 15:37:40,-1238926884 | INFO | 1950243 - epoch = 33 ---> loss = 0.0080\t accuracy = 1.0000\n",
      "2024-12-11 15:37:40,-1238926860 | INFO | 1950243 - epoch = 34 ---> loss = 0.0072\t accuracy = 1.0000\n",
      "2024-12-11 15:37:40,-1238926808 | INFO | 1950243 - epoch = 35 ---> loss = 0.0065\t accuracy = 1.0000\n",
      "2024-12-11 15:37:40,-1238926776 | INFO | 1950243 - epoch = 36 ---> loss = 0.0059\t accuracy = 1.0000\n",
      "2024-12-11 15:37:40,-1238926759 | INFO | 1950243 - epoch = 37 ---> loss = 0.0054\t accuracy = 1.0000\n",
      "2024-12-11 15:37:40,-1238926736 | INFO | 1950243 - epoch = 38 ---> loss = 0.0050\t accuracy = 1.0000\n",
      "2024-12-11 15:37:40,-1238926664 | INFO | 1950243 - epoch = 39 ---> loss = 0.0047\t accuracy = 1.0000\n",
      "2024-12-11 15:37:40,-1238926663 | INFO | 1950243 - TorchModel trained on cpu in: 1.8069703578948975 secs\n",
      "2024-12-11 15:37:40,-1238926657 | INFO | 1950243 - Created Configurable: erasure.model.TorchModel.TorchModel\n",
      "2024-12-11 15:37:40,-1238926632 | INFO | 1950243 - sklearn.metrics.f1_score of \"test\" on unlearned: 0.0 of <erasure.model.TorchModel.TorchModel object at 0x7f5b6e2d7730>\n",
      "2024-12-11 15:37:40,-1238926622 | INFO | 1950243 - sklearn.metrics.accuracy_score of \"test\" on unlearned: 0.0 of <erasure.model.TorchModel.TorchModel object at 0x7f5b6e2d7730>\n",
      "2024-12-11 15:37:40,-1238926616 | INFO | 1950243 - sklearn.metrics.accuracy_score of \"test\" on original: 0.7666666666666667 of <erasure.model.TorchModel.TorchModel object at 0x7f5b6e2e0f40>\n",
      "2024-12-11 15:37:40,-1238926589 | INFO | 1950243 - sklearn.metrics.accuracy_score of \"forget\" on unlearned: 0.0 of <erasure.model.TorchModel.TorchModel object at 0x7f5b6e2d7730>\n",
      "2024-12-11 15:37:41,-1238926560 | INFO | 1950243 - sklearn.metrics.accuracy_score of \"forget\" on original: 0.95 of <erasure.model.TorchModel.TorchModel object at 0x7f5b6e2e0f40>\n",
      "2024-12-11 15:37:41,-1238926544 | INFO | 1950243 - sklearn.metrics.accuracy_score of \"retain\" on unlearned: 1.0 of <erasure.model.TorchModel.TorchModel object at 0x7f5b6e2d7730>\n",
      "2024-12-11 15:37:41,-1238926526 | INFO | 1950243 - sklearn.metrics.accuracy_score of \"retain\" on original: 0.99 of <erasure.model.TorchModel.TorchModel object at 0x7f5b6e2e0f40>\n",
      "2024-12-11 15:37:41,-1238926509 | INFO | 1950243 - Adaptive Unlearning Score: 0.23333333333333328\n"
     ]
    }
   ],
   "source": [
    "\n",
    "from erasure.utils.config.global_ctx import bcolors\n",
    "\n",
    "\n",
    "current = Local(global_ctx.config.predictor)\n",
    "current.dataset = data_manager\n",
    "predictor = global_ctx.factory.get_object(current)\n",
    "global_ctx.logger.info('Global Predictor: ' + str(predictor))\n",
    "\n",
    "#Create unlearners \n",
    "unlearners = []\n",
    "unlearners_cfg = global_ctx.config.unlearners\n",
    "for un in unlearners_cfg:\n",
    "    current = Local(un)\n",
    "    current.dataset = data_manager\n",
    "    current.predictor = copy.deepcopy(predictor)\n",
    "    unlearners.append( global_ctx.factory.get_object(current) )\n",
    "\n",
    "\n",
    "#Evaluator\n",
    "current = Local(global_ctx.config.evaluator)\n",
    "current.unlearners = unlearners\n",
    "evaluator = global_ctx.factory.get_object(current)\n",
    "\n",
    "# Evaluations\n",
    "for unlearner in unlearners:\n",
    "    global_ctx.logger.info(f'''{bcolors.OKGREEN}####\\t\\t Evaluating: {unlearner.__class__.__name__} \\t\\t####{bcolors.ENDC}''')\n",
    "    evaluator.evaluate(unlearner,predictor)\n",
    "\n",
    " "
   ]
  }
 ],
 "metadata": {
  "kernelspec": {
   "display_name": "representer",
   "language": "python",
   "name": "python3"
  },
  "language_info": {
   "codemirror_mode": {
    "name": "ipython",
    "version": 3
   },
   "file_extension": ".py",
   "mimetype": "text/x-python",
   "name": "python",
   "nbconvert_exporter": "python",
   "pygments_lexer": "ipython3",
   "version": "3.9.19"
  }
 },
 "nbformat": 4,
 "nbformat_minor": 2
}
