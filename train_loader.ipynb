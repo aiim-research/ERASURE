{
 "cells": [
  {
   "cell_type": "code",
   "execution_count": 123,
   "metadata": {},
   "outputs": [
    {
     "name": "stdout",
     "output_type": "stream",
     "text": [
      "The autoreload extension is already loaded. To reload it, use:\n",
      "  %reload_ext autoreload\n"
     ]
    }
   ],
   "source": [
    "import copy\n",
    "import os\n",
    "import argparse\n",
    "import torch\n",
    "import numpy as np\n",
    "import random\n",
    "from erasure.utils.config.global_ctx import set_seed \n",
    "\n",
    "set_seed(1)\n",
    "\n",
    "%load_ext autoreload\n",
    "%autoreload 2\n",
    "from erasure.utils.config.local_ctx import Local\n",
    "from erasure.utils.config.global_ctx import Global \n",
    "from erasure.core.factory_base import ConfigurableFactory\n",
    "from erasure.data.datasets.DatasetManager import DatasetManager"
   ]
  },
  {
   "cell_type": "code",
   "execution_count": 124,
   "metadata": {},
   "outputs": [
    {
     "name": "stdout",
     "output_type": "stream",
     "text": [
      "2024-12-05 17:00:26,-1752361259 | INFO | 3072574 - Creating Global Context for: configs/example_uci.jsonc\n",
      "2024-12-05 17:00:26,-1752361256 | INFO | 3072574 - Current PyTorch seed: 1\n",
      "CONFIG DATA  {'class': 'erasure.data.datasets.DatasetManager.DatasetManager', 'parameters': {'DataSource': {'class': 'erasure.data.data_sources.UCIRepositoryDataSource.UCIRepositoryDataSource', 'parameters': {'id': 2, 'preprocess': [{'class': 'erasure.data.data_sources.preprocessing.preprocess.RemoveCharacter', 'parameters': {'character': '.', 'process_X': False, 'process_y': True}}, {'class': 'erasure.data.data_sources.preprocessing.preprocess.CategoricalEncode', 'parameters': {'encoder': {'class': 'sklearn.preprocessing.LabelEncoder', 'parameters': {}}, 'process_X': True, 'process_y': True}}]}}, 'partitions': [{'class': 'erasure.data.datasets.DataSplitter.DataSplitterPercentage', 'parameters': {'parts_names': ['all_reduced', '-'], 'percentage': 0.0125}}, {'class': 'erasure.data.datasets.DataSplitter.DataSplitterPercentage', 'parameters': {'parts_names': ['train', 'test'], 'percentage': 0.8, 'ref_data': 'all_reduced'}}, {'class': 'erasure.data.datasets.DataSplitter.DataSplitterClass', 'parameters': {'parts_names': ['forget set', 'other_classes'], 'label': 1, 'ref_data': 'train'}}, {'class': 'erasure.data.datasets.DataSplitter.DataSplitterNSamples', 'parameters': {'parts_names': ['example', '-'], 'n_samples': 100, 'ref_data': 'forget set'}}], 'batch_size': 128, 'split_seed': 16}}\n",
      "2024-12-05 17:00:26,-1752361255 | INFO | 3072574 - {'class': 'erasure.data.data_sources.UCIRepositoryDataSource.UCIRepositoryDataSource', 'parameters': {'id': 2, 'preprocess': [{'class': 'erasure.data.data_sources.preprocessing.preprocess.RemoveCharacter', 'parameters': {'character': '.', 'process_X': False, 'process_y': True}}, {'class': 'erasure.data.data_sources.preprocessing.preprocess.CategoricalEncode', 'parameters': {'encoder': {'class': 'sklearn.preprocessing.LabelEncoder', 'parameters': {}}, 'process_X': True, 'process_y': True}}]}}\n",
      "2024-12-05 17:00:26,-1752361253 | INFO | 3072574 - Created Configurable: erasure.data.data_sources.preprocessing.preprocess.RemoveCharacter\n",
      "2024-12-05 17:00:26,-1752361252 | INFO | 3072574 - Instantiating: sklearn.preprocessing.LabelEncoder\n",
      "2024-12-05 17:00:26,-1752361251 | INFO | 3072574 - Created Configurable: erasure.data.data_sources.preprocessing.preprocess.CategoricalEncode\n",
      "2024-12-05 17:00:26,-1752361251 | INFO | 3072574 - Created Configurable: erasure.data.data_sources.UCIRepositoryDataSource.UCIRepositoryDataSource\n",
      "2024-12-05 17:00:35,-1752351734 | INFO | 3072574 - <torch.utils.data.dataset.ConcatDataset object at 0x7f5dccf43580>\n",
      "2024-12-05 17:00:35,-1752351732 | INFO | 3072574 - Instantiating: erasure.data.datasets.DataSplitter.DataSplitterPercentage\n",
      "2024-12-05 17:00:35,-1752351729 | INFO | 3072574 - Instantiating: erasure.data.datasets.DataSplitter.DataSplitterPercentage\n",
      "2024-12-05 17:00:35,-1752351729 | INFO | 3072574 - Instantiating: erasure.data.datasets.DataSplitter.DataSplitterClass\n",
      "2024-12-05 17:00:35,-1752351720 | INFO | 3072574 - Instantiating: erasure.data.datasets.DataSplitter.DataSplitterNSamples\n",
      "2024-12-05 17:00:35,-1752351719 | INFO | 3072574 - ['all', 'all_reduced', '-', 'train', 'test', 'forget set', 'other_classes', 'example']\n",
      "2024-12-05 17:00:35,-1752351714 | INFO | 3072574 - Created Configurable: erasure.data.datasets.DatasetManager.DatasetManager\n"
     ]
    }
   ],
   "source": [
    "config_file = os.path.join(\"configs\", \"example_uci.jsonc\")\n",
    "\n",
    "global_ctx = Global(config_file)\n",
    "global_ctx.factory = ConfigurableFactory(global_ctx)\n",
    "\n",
    "global_ctx.logger.info(f\"Current PyTorch seed: {torch.initial_seed()}\")\n",
    "\n",
    "#Create Dataset\n",
    "print(\"CONFIG DATA \", global_ctx.config.data)\n",
    "data_manager = global_ctx.factory.get_object( Local( global_ctx.config.data ))"
   ]
  },
  {
   "cell_type": "code",
   "execution_count": 125,
   "metadata": {},
   "outputs": [
    {
     "data": {
      "text/plain": [
       "2"
      ]
     },
     "execution_count": 125,
     "metadata": {},
     "output_type": "execute_result"
    }
   ],
   "source": [
    "data_manager.n_classes"
   ]
  }
 ],
 "metadata": {
  "kernelspec": {
   "display_name": "representer",
   "language": "python",
   "name": "python3"
  },
  "language_info": {
   "codemirror_mode": {
    "name": "ipython",
    "version": 3
   },
   "file_extension": ".py",
   "mimetype": "text/x-python",
   "name": "python",
   "nbconvert_exporter": "python",
   "pygments_lexer": "ipython3",
   "version": "3.9.19"
  }
 },
 "nbformat": 4,
 "nbformat_minor": 2
}
