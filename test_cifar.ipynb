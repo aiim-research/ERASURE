{
 "cells": [
  {
   "cell_type": "code",
   "execution_count": 1,
   "metadata": {},
   "outputs": [
    {
     "data": {
      "text/plain": [
       "tensor([1, 3, 0])"
      ]
     },
     "execution_count": 1,
     "metadata": {},
     "output_type": "execute_result"
    }
   ],
   "source": [
    "test = [True, 3, False]\n",
    "\n",
    "import torch \n",
    "\n",
    "# Create a tensor from a list\n",
    "x = torch.tensor(test)\n",
    "x"
   ]
  },
  {
   "cell_type": "code",
   "execution_count": 1,
   "metadata": {},
   "outputs": [
    {
     "name": "stdout",
     "output_type": "stream",
     "text": [
      "{'fine_label_names': ['apple', 'aquarium_fish', 'baby', 'bear', 'beaver', 'bed', 'bee', 'beetle', 'bicycle', 'bottle', 'bowl', 'boy', 'bridge', 'bus', 'butterfly', 'camel', 'can', 'castle', 'caterpillar', 'cattle', 'chair', 'chimpanzee', 'clock', 'cloud', 'cockroach', 'couch', 'crab', 'crocodile', 'cup', 'dinosaur', 'dolphin', 'elephant', 'flatfish', 'forest', 'fox', 'girl', 'hamster', 'house', 'kangaroo', 'keyboard', 'lamp', 'lawn_mower', 'leopard', 'lion', 'lizard', 'lobster', 'man', 'maple_tree', 'motorcycle', 'mountain', 'mouse', 'mushroom', 'oak_tree', 'orange', 'orchid', 'otter', 'palm_tree', 'pear', 'pickup_truck', 'pine_tree', 'plain', 'plate', 'poppy', 'porcupine', 'possum', 'rabbit', 'raccoon', 'ray', 'road', 'rocket', 'rose', 'sea', 'seal', 'shark', 'shrew', 'skunk', 'skyscraper', 'snail', 'snake', 'spider', 'squirrel', 'streetcar', 'sunflower', 'sweet_pepper', 'table', 'tank', 'telephone', 'television', 'tiger', 'tractor', 'train', 'trout', 'tulip', 'turtle', 'wardrobe', 'whale', 'willow_tree', 'wolf', 'woman', 'worm'], 'coarse_label_names': ['aquatic_mammals', 'fish', 'flowers', 'food_containers', 'fruit_and_vegetables', 'household_electrical_devices', 'household_furniture', 'insects', 'large_carnivores', 'large_man-made_outdoor_things', 'large_natural_outdoor_scenes', 'large_omnivores_and_herbivores', 'medium_mammals', 'non-insect_invertebrates', 'people', 'reptiles', 'small_mammals', 'trees', 'vehicles_1', 'vehicles_2']}\n"
     ]
    }
   ],
   "source": [
    "# load pickle file \n",
    "\n",
    "import pickle\n",
    "\n",
    "path = \"resources/data/cifar-100-python/meta\"\n",
    "with open(path, 'rb') as f:\n",
    "    pickle_data = pickle.load(f)\n",
    "\n",
    "print(pickle_data)"
   ]
  },
  {
   "cell_type": "code",
   "execution_count": 6,
   "metadata": {},
   "outputs": [
    {
     "name": "stdout",
     "output_type": "stream",
     "text": [
      "Index of boy: 11\n",
      "Index of sunflower: 82\n",
      "Index of apple: 0\n",
      "Index of couch: 25\n",
      "Index of bee: 6\n",
      "Index of lion: 43\n",
      "Index of plain: 60\n",
      "Index of turtle: 93\n",
      "Index of hamster: 36\n",
      "Index of pine_tree: 59\n"
     ]
    }
   ],
   "source": [
    "# get index of 'boy', sunflowers, apples, couch, bee, lion, plain, turtle, hamster, pine\n",
    "\n",
    "fine_label_names = pickle_data['fine_label_names']\n",
    "\n",
    "words_to_find = ['boy', 'sunflower', 'apple', 'couch', 'bee', 'lion', 'plain', 'turtle', 'hamster', 'pine_tree']\n",
    "\n",
    "for word in words_to_find:\n",
    "    print(f\"Index of {word}: {fine_label_names.index(word)}\")"
   ]
  },
  {
   "cell_type": "code",
   "execution_count": 2,
   "metadata": {},
   "outputs": [
    {
     "name": "stdout",
     "output_type": "stream",
     "text": [
      "dict_keys([b'filenames', b'batch_label', b'fine_labels', b'coarse_labels', b'data'])\n"
     ]
    }
   ],
   "source": [
    "# import resnet \n",
    "from torchvision import models\n",
    "resnet18 = models.resnet18()\n",
    "\n",
    "# import cifar-100 dataset\n",
    "from torchvision import datasets\n",
    "from torchvision import transforms\n",
    "from torch.utils.data import DataLoader\n",
    "\n",
    "path = \"resources/data/cifar-100-python/train\"\n",
    "\n",
    "with open(path, 'rb') as f:\n",
    "    cifar100 = pickle.load(f, encoding='bytes')\n",
    "\n",
    "print(cifar100.keys())"
   ]
  },
  {
   "cell_type": "code",
   "execution_count": 3,
   "metadata": {},
   "outputs": [
    {
     "name": "stdout",
     "output_type": "stream",
     "text": [
      "Files already downloaded and verified\n",
      "Files already downloaded and verified\n"
     ]
    }
   ],
   "source": [
    "# load cifar100 dataset\n",
    "transform = transforms.Compose([\n",
    "    transforms.ToTensor(),\n",
    "    transforms.Normalize((0.5, 0.5, 0.5), (0.5, 0.5, 0.5))\n",
    "])\n",
    "\n",
    "trainset = datasets.CIFAR100(root='resources/data', train=True, download=True, transform=transform)\n",
    "trainloader = DataLoader(trainset, batch_size=4, shuffle=True, num_workers=2)\n",
    "\n",
    "testset = datasets.CIFAR100(root='resources/data', train=False, download=True, transform=transform)\n",
    "testloader = DataLoader(testset, batch_size=4, shuffle=False, num_workers=2)"
   ]
  },
  {
   "cell_type": "code",
   "execution_count": 7,
   "metadata": {},
   "outputs": [
    {
     "data": {
      "text/plain": [
       "(49500, 500)"
      ]
     },
     "execution_count": 7,
     "metadata": {},
     "output_type": "execute_result"
    }
   ],
   "source": [
    "retain_samples = []\n",
    "forget_samples = []\n",
    "for elem in trainset: \n",
    "    if elem[1] == 11:\n",
    "        forget_samples.append(elem)\n",
    "    else:\n",
    "        retain_samples.append(elem)\n",
    "\n",
    "len(retain_samples), len(forget_samples)"
   ]
  },
  {
   "cell_type": "code",
   "execution_count": 20,
   "metadata": {},
   "outputs": [
    {
     "name": "stdout",
     "output_type": "stream",
     "text": [
      "Fine label 23 maps to coarse label 10\n"
     ]
    }
   ],
   "source": [
    "def cifar100_fine_to_coarse_idx(fine_idx):\n",
    "    # Mapping from fine labels (0-99) to coarse labels (0-19) based on CIFAR-100 dataset\n",
    "    fine_to_coarse = [\n",
    "        4, 1, 14, 8, 0, 6, 7, 7, 18, 3,\n",
    "        3, 14, 9, 18, 7, 11, 3, 9, 7, 11,\n",
    "        6, 11, 5, 10, 7, 6, 13, 15, 3, 15,\n",
    "        0, 11, 1, 10, 12, 14, 16, 9, 11, 5,\n",
    "        5, 19, 8, 8, 15, 13, 14, 17, 18, 10,\n",
    "        16, 4, 17, 4, 2, 0, 17, 4, 18, 17,\n",
    "        10, 3, 2, 12, 12, 16, 12, 1, 9, 19,\n",
    "        2, 10, 0, 1, 16, 12, 9, 13, 15, 13,\n",
    "        16, 19, 2, 4, 6, 19, 5, 5, 8, 19,\n",
    "        18, 1, 2, 15, 6, 0, 17, 8, 14, 13\n",
    "    ]\n",
    "    \n",
    "    return fine_to_coarse[fine_idx]\n",
    "\n",
    "# Example usage:\n",
    "fine_label_idx = 23  # Example fine label index\n",
    "coarse_label_idx = cifar100_fine_to_coarse_idx(fine_label_idx)\n",
    "print(f\"Fine label {fine_label_idx} maps to coarse label {coarse_label_idx}\")\n"
   ]
  },
  {
   "cell_type": "code",
   "execution_count": 21,
   "metadata": {},
   "outputs": [],
   "source": [
    "# create two datasets for retain and forget samples\n",
    "class Cifar100Dataset:\n",
    "    def __init__(self, samples):\n",
    "        self.samples = samples\n",
    "\n",
    "    def __len__(self):\n",
    "        return len(self.samples)\n",
    "\n",
    "    def __getitem__(self, idx):\n",
    "        x = self.samples[idx][0]\n",
    "        y = cifar100_fine_to_coarse_idx(self.samples[idx][1])\n",
    "        return x, y\n",
    "\n",
    "retain_dataset = Cifar100Dataset(retain_samples)\n",
    "forget_dataset = Cifar100Dataset(forget_samples)\n",
    "\n",
    "retain_loader = DataLoader(retain_dataset, batch_size=4, shuffle=True, num_workers=2)\n",
    "forget_loader = DataLoader(forget_dataset, batch_size=4, shuffle=True, num_workers=2)"
   ]
  },
  {
   "cell_type": "code",
   "execution_count": 22,
   "metadata": {},
   "outputs": [
    {
     "data": {
      "image/png": "[encoded data removed]",
      "text/plain": [
       "<Figure size 640x480 with 1 Axes>"
      ]
     },
     "metadata": {},
     "output_type": "display_data"
    },
    {
     "name": "stdout",
     "output_type": "stream",
     "text": [
      "14\n"
     ]
    }
   ],
   "source": [
    "import matplotlib.pyplot as plt\n",
    "import numpy as np\n",
    "\n",
    "def imshow(img):\n",
    "    img = img / 2 + 0.5\n",
    "    npimg = img.numpy()\n",
    "    plt.imshow(np.transpose(npimg, (1, 2, 0)))\n",
    "    plt.show()\n",
    "\n",
    "imshow(forget_dataset[0][0])\n",
    "print(forget_dataset[0][1])"
   ]
  },
  {
   "cell_type": "code",
   "execution_count": 32,
   "metadata": {},
   "outputs": [
    {
     "name": "stderr",
     "output_type": "stream",
     "text": [
      "  0%|          | 0/10 [00:00<?, ?it/s]"
     ]
    },
    {
     "name": "stdout",
     "output_type": "stream",
     "text": [
      "[1, 2000] loss: 3.128727398633957\n",
      "[1, 4000] loss: 2.932221142888069\n",
      "[1, 6000] loss: 2.856457120299339\n",
      "[1, 8000] loss: 2.7815883888602255\n",
      "[1, 10000] loss: 2.7486641197800634\n",
      "[1, 12000] loss: 2.690902258455753\n"
     ]
    },
    {
     "name": "stderr",
     "output_type": "stream",
     "text": [
      " 10%|█         | 1/10 [01:07<10:07, 67.47s/it]"
     ]
    },
    {
     "name": "stdout",
     "output_type": "stream",
     "text": [
      "[2, 2000] loss: 2.6559421448111533\n",
      "[2, 4000] loss: 2.600999473512173\n",
      "[2, 6000] loss: 2.6108056002259254\n",
      "[2, 8000] loss: 2.577447236597538\n",
      "[2, 10000] loss: 2.547904668688774\n",
      "[2, 12000] loss: 2.4875091831684113\n"
     ]
    },
    {
     "name": "stderr",
     "output_type": "stream",
     "text": [
      " 20%|██        | 2/10 [02:15<09:00, 67.62s/it]"
     ]
    },
    {
     "name": "stdout",
     "output_type": "stream",
     "text": [
      "[3, 2000] loss: 2.4756713929176333\n",
      "[3, 4000] loss: 2.4607428320050238\n",
      "[3, 6000] loss: 2.4492944948971274\n",
      "[3, 8000] loss: 2.488922216922045\n",
      "[3, 10000] loss: 2.41555493915081\n",
      "[3, 12000] loss: 2.3923105643093585\n"
     ]
    },
    {
     "name": "stderr",
     "output_type": "stream",
     "text": [
      " 30%|███       | 3/10 [03:22<07:52, 67.56s/it]"
     ]
    },
    {
     "name": "stdout",
     "output_type": "stream",
     "text": [
      "[4, 2000] loss: 2.3813351278603077\n",
      "[4, 4000] loss: 2.3581950688064097\n",
      "[4, 6000] loss: 2.33333945402503\n",
      "[4, 8000] loss: 2.323099815040827\n",
      "[4, 10000] loss: 2.3453977248370648\n",
      "[4, 12000] loss: 2.3230413064062594\n"
     ]
    },
    {
     "name": "stderr",
     "output_type": "stream",
     "text": [
      " 40%|████      | 4/10 [04:29<06:44, 67.44s/it]"
     ]
    },
    {
     "name": "stdout",
     "output_type": "stream",
     "text": [
      "[5, 2000] loss: 2.277423752337694\n",
      "[5, 4000] loss: 2.290108485370874\n",
      "[5, 6000] loss: 2.3049702451229095\n",
      "[5, 8000] loss: 2.2645976515114308\n",
      "[5, 10000] loss: 2.282638212516904\n",
      "[5, 12000] loss: 2.280507592201233\n"
     ]
    },
    {
     "name": "stderr",
     "output_type": "stream",
     "text": [
      " 50%|█████     | 5/10 [05:37<05:36, 67.35s/it]"
     ]
    },
    {
     "name": "stdout",
     "output_type": "stream",
     "text": [
      "[6, 2000] loss: 2.2506475942730906\n",
      "[6, 4000] loss: 2.216782793074846\n",
      "[6, 6000] loss: 2.21381825363636\n",
      "[6, 8000] loss: 2.221113764345646\n",
      "[6, 10000] loss: 2.1875127732455732\n",
      "[6, 12000] loss: 2.2398967609107494\n"
     ]
    },
    {
     "name": "stderr",
     "output_type": "stream",
     "text": [
      " 60%|██████    | 6/10 [06:44<04:29, 67.39s/it]"
     ]
    },
    {
     "name": "stdout",
     "output_type": "stream",
     "text": [
      "[7, 2000] loss: 2.167808995515108\n",
      "[7, 4000] loss: 2.1777832366228105\n",
      "[7, 6000] loss: 2.1531347993910313\n",
      "[7, 8000] loss: 2.1567942351847886\n",
      "[7, 10000] loss: 2.133683716788888\n",
      "[7, 12000] loss: 2.13585650023818\n"
     ]
    },
    {
     "name": "stderr",
     "output_type": "stream",
     "text": [
      " 70%|███████   | 7/10 [07:51<03:22, 67.35s/it]"
     ]
    },
    {
     "name": "stdout",
     "output_type": "stream",
     "text": [
      "[8, 2000] loss: 2.1005378238260746\n",
      "[8, 4000] loss: 2.0782370700091124\n",
      "[8, 6000] loss: 2.0891153584122657\n",
      "[8, 8000] loss: 2.082530228808522\n",
      "[8, 10000] loss: 2.058455073803663\n",
      "[8, 12000] loss: 2.0838522815555334\n"
     ]
    },
    {
     "name": "stderr",
     "output_type": "stream",
     "text": [
      " 80%|████████  | 8/10 [08:58<02:14, 67.26s/it]"
     ]
    },
    {
     "name": "stdout",
     "output_type": "stream",
     "text": [
      "[9, 2000] loss: 2.05818202316761\n",
      "[9, 4000] loss: 2.015151668712497\n",
      "[9, 6000] loss: 2.0446454443633555\n",
      "[9, 8000] loss: 2.037137091577053\n",
      "[9, 10000] loss: 2.047531548127532\n",
      "[9, 12000] loss: 2.0267791188657283\n"
     ]
    },
    {
     "name": "stderr",
     "output_type": "stream",
     "text": [
      " 90%|█████████ | 9/10 [10:06<01:07, 67.33s/it]"
     ]
    },
    {
     "name": "stdout",
     "output_type": "stream",
     "text": [
      "[10, 2000] loss: 2.006545876774937\n",
      "[10, 4000] loss: 1.97996480306983\n",
      "[10, 6000] loss: 2.0024342493116856\n",
      "[10, 8000] loss: 1.9637828556746244\n",
      "[10, 10000] loss: 1.9756978620290757\n",
      "[10, 12000] loss: 2.0203721135109665\n"
     ]
    },
    {
     "name": "stderr",
     "output_type": "stream",
     "text": [
      "100%|██████████| 10/10 [11:13<00:00, 67.40s/it]\n"
     ]
    }
   ],
   "source": [
    "# resnet model \n",
    "import torch\n",
    "import torch.nn as nn\n",
    "\n",
    "from tqdm import tqdm\n",
    "\n",
    "device = torch.device(\"cuda\" if torch.cuda.is_available() else \"cpu\")\n",
    "\n",
    "resnet18 = models.resnet18()\n",
    "resnet18.fc = nn.Linear(512, 20)\n",
    "resnet18 = resnet18.to(device)\n",
    "\n",
    "# training loop\n",
    "import torch.optim as optim\n",
    "\n",
    "criterion = nn.CrossEntropyLoss()\n",
    "optimizer = optim.Adam(resnet18.parameters(), lr=0.001)\n",
    "\n",
    "for epoch in tqdm(range(10)):\n",
    "    running_loss = 0.0\n",
    "    for i, data in enumerate(retain_loader):\n",
    "        inputs, labels = data\n",
    "\n",
    "        optimizer.zero_grad()\n",
    "\n",
    "        outputs = resnet18(inputs.to(device))\n",
    "        loss = criterion(outputs, labels.to(device))\n",
    "        loss.backward()\n",
    "        optimizer.step()\n",
    "\n",
    "        running_loss += loss.item()\n",
    "\n",
    "        if i % 2000 == 1999:\n",
    "            print(f\"[{epoch + 1}, {i + 1}] loss: {running_loss / 2000}\")\n",
    "            running_loss = 0.0\n"
   ]
  },
  {
   "cell_type": "code",
   "execution_count": 35,
   "metadata": {},
   "outputs": [
    {
     "name": "stdout",
     "output_type": "stream",
     "text": [
      "Accuracy on forget set: 11.6%\n"
     ]
    }
   ],
   "source": [
    "# test on the forget set \n",
    "\n",
    "correct = 0\n",
    "total = 0\n",
    "with torch.no_grad():\n",
    "    for data in forget_loader:\n",
    "        images, labels = data\n",
    "        outputs = resnet18(images.to(device))\n",
    "        _, predicted = torch.max(outputs.data, 1)\n",
    "        total += labels.size(0)\n",
    "        correct += (predicted.cpu() == labels).sum().item()\n",
    "\n",
    "print(f\"Accuracy on forget set: {100 * correct / total}%\")"
   ]
  }
 ],
 "metadata": {
  "kernelspec": {
   "display_name": "Python 3",
   "language": "python",
   "name": "python3"
  },
  "language_info": {
   "codemirror_mode": {
    "name": "ipython",
    "version": 3
   },
   "file_extension": ".py",
   "mimetype": "text/x-python",
   "name": "python",
   "nbconvert_exporter": "python",
   "pygments_lexer": "ipython3",
   "version": "3.11.11"
  }
 },
 "nbformat": 4,
 "nbformat_minor": 2
}
